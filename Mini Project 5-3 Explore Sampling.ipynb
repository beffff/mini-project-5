{
 "cells": [
  {
   "cell_type": "markdown",
   "metadata": {
    "id": "9HYKQFUbTX8V"
   },
   "source": [
    "# Mini Project 5-3 Explore Sampling"
   ]
  },
  {
   "cell_type": "markdown",
   "metadata": {
    "id": "ee31943b-274e-4c28-bce6-155cb6f4c334"
   },
   "source": [
    "## Introduction\n",
    "In this project, you will engage in effective sampling of a dataset in order to make it easier to analyze. As a data professional you will often work with extremely large datasets, and utilizing proper sampling techniques helps you improve your efficiency in this work. \n",
    "\n",
    "For this project, you are a member of an analytics team for the Environmental Protection Agency. You are assigned to analyze data on air quality with respect to carbon monoxide—a major air pollutant—and report your findings. The data utilized in this project includes information from over 200 sites, identified by their state name, county name, city name, and local site name. You will use effective sampling within this dataset. "
   ]
  },
  {
   "cell_type": "markdown",
   "metadata": {
    "id": "4bb9630e-b940-4835-a389-d39def1fa848"
   },
   "source": [
    "## Step 1: Imports"
   ]
  },
  {
   "cell_type": "markdown",
   "metadata": {
    "id": "bc180686-4ae2-47ea-a292-3588ac60a820"
   },
   "source": [
    "### Import packages\n",
    "\n",
    "Import `pandas`,  `numpy`, `matplotlib`, `statsmodels`, and `scipy`. "
   ]
  },
  {
   "cell_type": "code",
   "execution_count": 2,
   "metadata": {
    "id": "8e7f1f2c-bbcc-4f3c-b927-b090ee8334c4"
   },
   "outputs": [],
   "source": [
    "# Import libraries and packages\n",
    "import numpy as np\n",
    "import pandas as pd\n",
    "import matplotlib.pyplot as plt\n",
    "from scipy import stats\n",
    "import statsmodels.api as sm"
   ]
  },
  {
   "cell_type": "markdown",
   "metadata": {
    "id": "7d29c6bd-f194-46bb-b794-56dc20130473"
   },
   "source": [
    "### Load the dataset\n",
    "\n",
    "As shown in this cell, the dataset has been automatically loaded in for you. You do not need to download the .csv file, or provide more code, in order to access the dataset and proceed with this lab. Please continue with this activity by completing the following instructions."
   ]
  },
  {
   "cell_type": "code",
   "execution_count": 23,
   "metadata": {
    "id": "3bd40d44-080f-4e49-b0c2-160dedc3c4df"
   },
   "outputs": [],
   "source": [
    "# Import data.\n",
    "air_quality=pd.read_csv('c4_epa_air_quality.csv')\n",
    "air_quality=air_quality.dropna()"
   ]
  },
  {
   "cell_type": "markdown",
   "metadata": {
    "id": "95bf39c9-d05c-4324-a40b-bc692607b61b"
   },
   "source": [
    "## Step 2: Data exploration"
   ]
  },
  {
   "cell_type": "markdown",
   "metadata": {
    "id": "26561614-8e9b-4840-8dbf-b50131ae5314",
    "tags": []
   },
   "source": [
    "### Examine the data\n",
    "\n",
    "To understand how the dataset is structured, examine the first 10 rows of the data."
   ]
  },
  {
   "cell_type": "code",
   "execution_count": 5,
   "metadata": {
    "id": "ad5210a5-7a64-4991-b004-de818cfaf506"
   },
   "outputs": [
    {
     "name": "stdout",
     "output_type": "stream",
     "text": [
      "    Unnamed: 0  date_local    state_name   county_name      city_name  \\\n",
      "0            0  2018-01-01       Arizona      Maricopa        Buckeye   \n",
      "1            1  2018-01-01          Ohio       Belmont      Shadyside   \n",
      "2            2  2018-01-01       Wyoming         Teton  Not in a city   \n",
      "3            3  2018-01-01  Pennsylvania  Philadelphia   Philadelphia   \n",
      "4            4  2018-01-01          Iowa          Polk     Des Moines   \n",
      "5            5  2018-01-01        Hawaii      Honolulu  Not in a city   \n",
      "6            6  2018-01-01        Hawaii      Honolulu  Not in a city   \n",
      "8            8  2018-01-01        Hawaii      Honolulu       Honolulu   \n",
      "9            9  2018-01-01      Colorado       Larimer   Fort Collins   \n",
      "10          10  2018-01-01     Minnesota        Dakota      Rosemount   \n",
      "\n",
      "                                      local_site_name   parameter_name  \\\n",
      "0                                             BUCKEYE  Carbon monoxide   \n",
      "1                                           Shadyside  Carbon monoxide   \n",
      "2   Yellowstone National Park - Old Faithful Snow ...  Carbon monoxide   \n",
      "3                              North East Waste (NEW)  Carbon monoxide   \n",
      "4                                           CARPENTER  Carbon monoxide   \n",
      "5                                             Kapolei  Carbon monoxide   \n",
      "6                                             Kapolei  Carbon monoxide   \n",
      "8                                            Honolulu  Carbon monoxide   \n",
      "9                       Fort Collins - CSU - S. Mason  Carbon monoxide   \n",
      "10                           Flint Hills Refinery 420  Carbon monoxide   \n",
      "\n",
      "     units_of_measure  arithmetic_mean  aqi  \n",
      "0   Parts per million         0.473684    7  \n",
      "1   Parts per million         0.263158    5  \n",
      "2   Parts per million         0.111111    2  \n",
      "3   Parts per million         0.300000    3  \n",
      "4   Parts per million         0.215789    3  \n",
      "5   Parts per million         0.994737   14  \n",
      "6   Parts per million         0.200000    2  \n",
      "8   Parts per million         0.400000    5  \n",
      "9   Parts per million         0.300000    6  \n",
      "10  Parts per million         0.247368    3  \n"
     ]
    }
   ],
   "source": [
    "# First 10 rows of the data\n",
    "print(air_quality.head(10))"
   ]
  },
  {
   "cell_type": "markdown",
   "id": "5aac65ea",
   "metadata": {
    "id": "nZHP_ZUSXDKh"
   },
   "source": []
  },
  {
   "cell_type": "markdown",
   "metadata": {
    "id": "7dac147e-19e1-49e7-bd80-e122390c3a70",
    "tags": []
   },
   "source": [
    "### Generate a table of descriptive statistics\n",
    "\n",
    "Generate a table of some descriptive statistics about the data. Specify that all columns of the input be included in the output."
   ]
  },
  {
   "cell_type": "code",
   "execution_count": 26,
   "metadata": {
    "id": "13f1c1dd-5637-4726-8fa0-2fbd838e4afa"
   },
   "outputs": [
    {
     "name": "stdout",
     "output_type": "stream",
     "text": [
      "count    257.000000\n",
      "mean       6.782101\n",
      "std        7.091422\n",
      "min        0.000000\n",
      "25%        2.000000\n",
      "50%        5.000000\n",
      "75%        9.000000\n",
      "max       50.000000\n",
      "Name: aqi, dtype: float64\n"
     ]
    }
   ],
   "source": [
    "# Code Here\n",
    "air_quality = df[\"aqi\"].describe()\n",
    "print(air_quality)"
   ]
  },
  {
   "cell_type": "markdown",
   "metadata": {
    "id": "584fa1b2"
   },
   "source": [
    "**Question:** Based on the preceding table of descriptive statistics, what is the mean value of the `aqi` column? "
   ]
  },
  {
   "cell_type": "markdown",
   "metadata": {
    "id": "DoQA-TKWXIJ-"
   },
   "source": [
    "A: 6.782"
   ]
  },
  {
   "cell_type": "markdown",
   "metadata": {
    "id": "a70475eb-d3a6-42e4-8b71-a49b5a1aa0db"
   },
   "source": [
    "**Question:** Based on the preceding table of descriptive statistics, what do you notice about the count value for the `aqi` column?"
   ]
  },
  {
   "cell_type": "markdown",
   "metadata": {
    "id": "KIIg5Bd4XJ3M"
   },
   "source": [
    "A: 257"
   ]
  },
  {
   "cell_type": "markdown",
   "metadata": {
    "id": "5464fa18-f969-4e1e-8539-9b2d9a11766d",
    "tags": []
   },
   "source": [
    "### Use the `mean()` function on the `aqi`  column\n",
    "\n",
    "Now, use the `mean()` function on the `aqi`  column and assign the value to a variable `population_mean`. The value should be the same as the one generated by the `describe()` method in the above table. "
   ]
  },
  {
   "cell_type": "code",
   "execution_count": 22,
   "metadata": {
    "id": "678346a1-bc1a-40be-850a-c03488970604"
   },
   "outputs": [
    {
     "name": "stdout",
     "output_type": "stream",
     "text": [
      "Population Mean of AQI: 6.782101167315175\n"
     ]
    }
   ],
   "source": [
    "# Code Here\n",
    "df = pd.read_csv(\"c4_epa_air_quality.csv\") \n",
    "df = df.dropna()\n",
    "population_mean = df[\"aqi\"].mean()\n",
    "print(\"Population Mean of AQI:\", population_mean)"
   ]
  },
  {
   "cell_type": "markdown",
   "metadata": {
    "id": "990595d9"
   },
   "source": [
    "## Step 3: Statistical tests"
   ]
  },
  {
   "cell_type": "markdown",
   "metadata": {
    "id": "tejiqD0O7e3p"
   },
   "source": [
    "### Sample with replacement\n",
    "\n",
    "First, name a new variable `sampled_data`. Then, use the `sample()` dataframe method to draw 50 samples from `epa_data`. Set `replace` equal to `'True'` to specify sampling with replacement. For `random_state`, choose an arbitrary number for random seed. Make that arbitrary number `42`."
   ]
  },
  {
   "cell_type": "code",
   "execution_count": 38,
   "metadata": {
    "id": "e4bceb0a"
   },
   "outputs": [],
   "source": [
    "# Code Here\n",
    "c4_epa_air_quality = pd.read_csv(\"c4_epa_air_quality.csv\")  # Replace with the actual filename\n",
    "\n",
    "# Take a random sample of 50 rows with replacement\n",
    "sampled_data = c4_epa_air_quality.sample(n=50, replace=True, random_state=42)"
   ]
  },
  {
   "cell_type": "markdown",
   "metadata": {
    "id": "dcca386d"
   },
   "source": [
    "### Output the first 10 rows\n",
    "\n",
    "Output the first 10 rows of the DataFrame. "
   ]
  },
  {
   "cell_type": "code",
   "execution_count": 41,
   "metadata": {
    "id": "63d5d4d5"
   },
   "outputs": [
    {
     "name": "stdout",
     "output_type": "stream",
     "text": [
      "     Unnamed: 0  date_local      state_name    county_name   city_name  \\\n",
      "102         102  2018-01-01           Texas         Harris     Houston   \n",
      "106         106  2018-01-01      California       Imperial    Calexico   \n",
      "71           71  2018-01-01         Alabama      Jefferson  Birmingham   \n",
      "188         188  2018-01-01         Arizona       Maricopa       Tempe   \n",
      "20           20  2018-01-01        Virginia        Roanoke      Vinton   \n",
      "102         102  2018-01-01           Texas         Harris     Houston   \n",
      "121         121  2018-01-01  North Carolina    Mecklenburg   Charlotte   \n",
      "214         214  2018-01-01         Florida        Broward       Davie   \n",
      "87           87  2018-01-01      California       Humboldt      Eureka   \n",
      "99           99  2018-01-01      California  Santa Barbara      Goleta   \n",
      "\n",
      "                   local_site_name   parameter_name   units_of_measure  \\\n",
      "102                        Clinton  Carbon monoxide  Parts per million   \n",
      "106          Calexico-Ethel Street  Carbon monoxide  Parts per million   \n",
      "71           Arkadelphia/Near Road  Carbon monoxide  Parts per million   \n",
      "188                         Diablo  Carbon monoxide  Parts per million   \n",
      "20   East Vinton Elementary School  Carbon monoxide  Parts per million   \n",
      "102                        Clinton  Carbon monoxide  Parts per million   \n",
      "121           Garinger High School  Carbon monoxide  Parts per million   \n",
      "214             Daniela Banu NCORE  Carbon monoxide  Parts per million   \n",
      "87                          Jacobs  Carbon monoxide  Parts per million   \n",
      "99                          Goleta  Carbon monoxide  Parts per million   \n",
      "\n",
      "     arithmetic_mean  aqi  \n",
      "102         0.157895    2  \n",
      "106         1.183333   26  \n",
      "71          0.200000    2  \n",
      "188         0.542105   10  \n",
      "20          0.100000    1  \n",
      "102         0.157895    2  \n",
      "121         0.200000    2  \n",
      "214         0.273684    5  \n",
      "87          0.393750    5  \n",
      "99          0.222222    3  \n"
     ]
    }
   ],
   "source": [
    "# Code Here\n",
    "\n",
    "print(sampled_data.head(10))"
   ]
  },
  {
   "cell_type": "markdown",
   "metadata": {
    "id": "ea32e0f9"
   },
   "source": [
    "**Question:** In the DataFrame output, why is the row index 102 repeated twice? "
   ]
  },
  {
   "cell_type": "markdown",
   "metadata": {
    "id": "PFcAQ7kQXQGa"
   },
   "source": [
    "A: Sampling with replacement means that after selecting a row, it is not removed from the dataset, so it can be selected again in another random draw"
   ]
  },
  {
   "cell_type": "markdown",
   "metadata": {
    "id": "39c3bf7d"
   },
   "source": [
    "**Question:** What does `random_state` do?"
   ]
  },
  {
   "cell_type": "markdown",
   "metadata": {
    "id": "6gVu0BaTXSlI"
   },
   "source": [
    "A:The random_state parameter in sample() (or other random functions like train_test_split in scikit-learn) controls the randomness of the sampling to ensure reproducibility."
   ]
  },
  {
   "cell_type": "markdown",
   "metadata": {
    "id": "eed77707"
   },
   "source": [
    "### Compute the mean value from the `aqi` column\n",
    "\n",
    "Compute the mean value from the `aqi` column in `sampled_data` and assign the value to the variable `sample_mean`."
   ]
  },
  {
   "cell_type": "code",
   "execution_count": 43,
   "metadata": {
    "id": "eccca24f"
   },
   "outputs": [
    {
     "name": "stdout",
     "output_type": "stream",
     "text": [
      "Sample Mean of AQI: 5.54\n"
     ]
    }
   ],
   "source": [
    "# Code Here\n",
    "sample_mean = sampled_data[\"aqi\"].mean()\n",
    "print(\"Sample Mean of AQI:\", sample_mean)"
   ]
  },
  {
   "cell_type": "markdown",
   "metadata": {},
   "source": [
    "You have a 95% confidence interval for the mean district literacy rate that stretches from about X % to Y%. \n",
    "\n",
    "95% CI: (X, Y)"
   ]
  },
  {
   "cell_type": "markdown",
   "metadata": {
    "id": "dffa05d1"
   },
   "source": [
    " **Question:**  Why is `sample_mean` different from `population_mean`?\n"
   ]
  },
  {
   "cell_type": "markdown",
   "metadata": {
    "id": "IWOwRNYsXVDL"
   },
   "source": [
    "A: because they use different size data. "
   ]
  },
  {
   "cell_type": "markdown",
   "metadata": {
    "id": "83526f10"
   },
   "source": [
    "### Apply the central limit theorem\n",
    "\n",
    "Imagine repeating the the earlier sample with replacement 10,000 times and obtaining 10,000 point estimates of the mean. In other words, imagine taking 10,000 random samples of 50 AQI values and computing the mean for each sample. According to the **central limit theorem**, the mean of a sampling distribution should be roughly equal to the population mean. Complete the following steps to compute the mean of the sampling distribution with 10,000 samples. \n",
    "\n",
    "* Create an empty list and assign it to a variable called `estimate_list`. \n",
    "* Iterate through a `for` loop 10,000 times. To do this, make sure to utilize the `range()` function to generate a sequence of numbers from 0 to 9,999. \n",
    "* In each iteration of the loop, use the `sample()` function to take a random sample (with replacement) of 50 AQI values from the population. Do not set `random_state` to a value.\n",
    "* Use the list `append()` function to add the value of the sample `mean` to each item in the list.\n"
   ]
  },
  {
   "cell_type": "code",
   "execution_count": 44,
   "metadata": {
    "id": "192b9d77"
   },
   "outputs": [],
   "source": [
    "# Code Here\n",
    "estimate_list = []\n",
    "for i in range(10000):\n",
    "    estimate_list.append(c4_epa_air_quality['aqi'].sample(n=50, replace=True).mean())\n",
    "estimate_df = pd.DataFrame(data={'estimate': estimate_list})"
   ]
  },
  {
   "cell_type": "markdown",
   "metadata": {
    "id": "bbcc624a"
   },
   "source": [
    "### Create a new DataFrame\n",
    "\n",
    "Next, create a new DataFrame from the list of 10,000 estimates. Name the new variable `estimate_df`."
   ]
  },
  {
   "cell_type": "code",
   "execution_count": null,
   "metadata": {
    "id": "59878c6b"
   },
   "outputs": [],
   "source": [
    "# Code Here\n",
    "estimate_df = pd.DataFrame(data={'estimate': estimate_list})"
   ]
  },
  {
   "cell_type": "markdown",
   "metadata": {
    "id": "1a2d1b98"
   },
   "source": [
    "### Compute the mean() of the sampling distribution\n",
    "\n",
    "Next, compute the `mean()` of the sampling distribution of 10,000 random samples and store the result in a new variable `mean_sample_means`."
   ]
  },
  {
   "cell_type": "code",
   "execution_count": 45,
   "metadata": {
    "id": "c21cce9c"
   },
   "outputs": [
    {
     "data": {
      "text/plain": [
       "6.756292"
      ]
     },
     "execution_count": 45,
     "metadata": {},
     "output_type": "execute_result"
    }
   ],
   "source": [
    "# Code Here\n",
    "mean_sample_means = estimate_df['estimate'].mean()\n",
    "mean_sample_means"
   ]
  },
  {
   "cell_type": "markdown",
   "metadata": {
    "id": "8a5939d9"
   },
   "source": [
    "**Question:** What is the mean for the sampling distribution of 10,000 random samples?"
   ]
  },
  {
   "cell_type": "code",
   "execution_count": null,
   "metadata": {
    "id": "hpyqcQ93XeEU"
   },
   "outputs": [],
   "source": [
    "# Code Here\n",
    "6,756"
   ]
  },
  {
   "cell_type": "markdown",
   "metadata": {
    "id": "4c8ab4ca"
   },
   "source": [
    "**Question:** How are the central limit theorem and random sampling (with replacement) related?"
   ]
  },
  {
   "cell_type": "code",
   "execution_count": null,
   "metadata": {},
   "outputs": [],
   "source": [
    "# Code Here\n",
    "The Central Limit Theorem (CLT) and random sampling with replacement are closely related because bootstrapping and other resampling methods rely on CLT to approximate the sampling distribution of the mean"
   ]
  },
  {
   "cell_type": "markdown",
   "metadata": {
    "id": "yk68WKLcXiJn"
   },
   "source": [
    "A:"
   ]
  },
  {
   "cell_type": "markdown",
   "id": "294b2990",
   "metadata": {},
   "source": []
  },
  {
   "cell_type": "markdown",
   "metadata": {
    "id": "ff41cd55"
   },
   "source": [
    "### Output the distribution using a histogram\n",
    "\n",
    "Output the distribution of these estimates using a histogram. This provides an idea of the sampling distribution."
   ]
  },
  {
   "cell_type": "code",
   "execution_count": 47,
   "id": "56eea4eb",
   "metadata": {},
   "outputs": [
    {
     "data": {
      "text/plain": [
       "5.54"
      ]
     },
     "execution_count": 47,
     "metadata": {},
     "output_type": "execute_result"
    }
   ],
   "source": [
    "estimate1 = sampled_data['aqi'].mean()\n",
    "estimate1"
   ]
  },
  {
   "cell_type": "code",
   "execution_count": 50,
   "metadata": {
    "id": "e0e6aedd"
   },
   "outputs": [
    {
     "data": {
      "image/png": "[encoded data removed]",
      "text/plain": [
       "<Figure size 1000x500 with 1 Axes>"
      ]
     },
     "metadata": {},
     "output_type": "display_data"
    }
   ],
   "source": [
    "# Code Here\n",
    "import matplotlib.pyplot as plt\n",
    "\n",
    "# Generate histogram of the sampling distribution\n",
    "plt.figure(figsize=(10,5))\n",
    "plt.hist(estimate_df['estimate'], bins=30, density=True, alpha=0.6, color='b', label=\"Sample Means Distribution\")\n",
    "\n",
    "# Labels and title\n",
    "plt.xlabel(\"Sample Mean of AQI\")\n",
    "plt.ylabel(\"Density\")\n",
    "plt.title(\"Sampling Distribution of Sample Mean\")\n",
    "plt.legend()\n",
    "\n",
    "# Show the plot\n",
    "plt.show()\n"
   ]
  },
  {
   "cell_type": "markdown",
   "metadata": {
    "id": "c740a062"
   },
   "source": [
    "### Calculate the standard error\n",
    "\n",
    "Calculate the standard error of the mean AQI using the initial sample of 50. The **standard error** of a statistic measures the sample-to-sample variability of the sample statistic. It provides a numerical measure of sampling variability and answers the question: How far is a statistic based on one particular sample from the actual value of the statistic?"
   ]
  },
  {
   "cell_type": "code",
   "execution_count": 49,
   "metadata": {
    "id": "74e6b4e9"
   },
   "outputs": [
    {
     "name": "stdout",
     "output_type": "stream",
     "text": [
      "Standard Error of the Mean AQI: 0.7413225908290327\n"
     ]
    }
   ],
   "source": [
    "# Code Here\n",
    "import numpy as np\n",
    "\n",
    "# Take an initial random sample of 50 AQI values\n",
    "initial_sample = c4_epa_air_quality['aqi'].sample(n=50, replace=True, random_state=42)\n",
    "\n",
    "# Compute the standard deviation of the sample\n",
    "sample_std = np.std(initial_sample, ddof=1)  # Using ddof=1 for sample standard deviation\n",
    "\n",
    "# Compute the standard error of the mean (SEM)\n",
    "standard_error = sample_std / np.sqrt(50)\n",
    "\n",
    "# Display the result\n",
    "print(\"Standard Error of the Mean AQI:\", standard_error)\n",
    "\n"
   ]
  },
  {
   "cell_type": "markdown",
   "metadata": {
    "id": "2c748417"
   },
   "source": [
    "## Step 4: Results and evaluation"
   ]
  },
  {
   "cell_type": "markdown",
   "metadata": {
    "id": "06fae653"
   },
   "source": [
    "###  Visualize the relationship between the sampling and normal distributions\n",
    "\n",
    "Visualize the relationship between your sampling distribution of 10,000 estimates and the normal distribution.\n",
    "\n",
    "1. Plot a histogram of the 10,000 sample means \n",
    "2. Add a vertical line indicating the mean of the first single sample of 50\n",
    "3. Add another vertical line indicating the mean of the means of the 10,000 samples \n",
    "4. Add a third vertical line indicating the mean of the actual population"
   ]
  },
  {
   "cell_type": "code",
   "execution_count": 52,
   "metadata": {
    "id": "55b5b482"
   },
   "outputs": [
    {
     "data": {
      "image/png": "[encoded data removed]",
      "text/plain": [
       "<Figure size 640x480 with 1 Axes>"
      ]
     },
     "metadata": {},
     "output_type": "display_data"
    }
   ],
   "source": [
    "# Code Here\n",
    "plt.hist(estimate_df['estimate'], bins=25, density=True, alpha=0.4, label = \"histogram of sample means of 10000 random samples\")\n",
    "xmin, xmax = plt.xlim()\n",
    "x = np.linspace(xmin, xmax, 100) # generate a grid of 100 values from xmin to xmax.\n",
    "p = stats.norm.pdf(x, mean_sample_means, stats.tstd(estimate_df['estimate']))\n",
    "plt.plot(x, p,'k', linewidth=2, label = 'normal curve from central limit theorem')\n",
    "plt.axvline(x=population_mean, color='g', linestyle = 'solid', label = 'population mean')\n",
    "plt.axvline(x=estimate1, color='r', linestyle = '--', label = 'sample mean of the first random sample')\n",
    "plt.axvline(x=mean_sample_means, color='b', linestyle = ':', label = 'mean of sample means of 10000 random samples')\n",
    "plt.title(\"Sampling distribution of sample mean\")\n",
    "plt.xlabel('sample mean')\n",
    "plt.ylabel('density')\n",
    "plt.legend(bbox_to_anchor=(1.04,1))\n",
    "plt.show()\n"
   ]
  },
  {
   "cell_type": "markdown",
   "metadata": {
    "id": "9abab6d5"
   },
   "source": [
    "**Question:** What insights did you gain from the preceding sampling distribution?"
   ]
  },
  {
   "cell_type": "markdown",
   "metadata": {
    "id": "6TWq1w2KXtN3"
   },
   "source": [
    "A:The sampling distribution of the mean is approximately normal (even if the original data isn't).\n",
    "Sample means provide an accurate estimate of the population mean.\n",
    "Individual samples may deviate, but taking multiple samples helps balance errors.\n",
    "Smaller standard error means more precise estimates, reducing uncertainty."
   ]
  },
  {
   "cell_type": "markdown",
   "metadata": {
    "id": "c77e7f0f-d2b9-4464-8a7c-9575d1e1ef9f"
   },
   "source": [
    "# Considerations"
   ]
  },
  {
   "cell_type": "markdown",
   "metadata": {},
   "source": [
    "**What are some key takeaways that you learned from this project?**\n",
    "\n",
    "A:The Central Limit Theorem (CLT) ensures that the distribution of sample means is approximately normal, even when the original data is not.\n",
    "Standard error is crucial for understanding how much a sample mean deviates from the true population mean."
   ]
  },
  {
   "cell_type": "markdown",
   "metadata": {},
   "source": [
    "**What findings would you share with others?**\n",
    "\n",
    "A:\n",
    "The shape of the sampling distribution is nearly normal, validating CLT in practice."
   ]
  },
  {
   "cell_type": "markdown",
   "metadata": {},
   "source": [
    "**What would you convey to external readers?**\n",
    "\n",
    "A:This project demonstrates how statistical sampling methods can estimate real-world population parameters."
   ]
  }
 ],
 "metadata": {
  "colab": {
   "collapsed_sections": [],
   "provenance": []
  },
  "kernelspec": {
   "display_name": "base",
   "language": "python",
   "name": "python3"
  },
  "language_info": {
   "codemirror_mode": {
    "name": "ipython",
    "version": 3
   },
   "file_extension": ".py",
   "mimetype": "text/x-python",
   "name": "python",
   "nbconvert_exporter": "python",
   "pygments_lexer": "ipython3",
   "version": "3.12.7"
  },
  "toc-autonumbering": false,
  "toc-showtags": false
 },
 "nbformat": 4,
 "nbformat_minor": 5
}
